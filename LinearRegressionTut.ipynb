{
 "cells": [
  {
   "cell_type": "markdown",
   "metadata": {},
   "source": [
    "# 1814731 Shameel Nkosi\n",
    "# 1390537 Siraj Motaung\n",
    "# 1858893 Molefe Molefe"
   ]
  },
  {
   "cell_type": "markdown",
   "metadata": {},
   "source": [
    "### Linear Regression tut"
   ]
  },
  {
   "cell_type": "code",
   "execution_count": 1,
   "metadata": {},
   "outputs": [],
   "source": [
    "import numpy as np\n",
    "import matplotlib.pyplot as plt"
   ]
  },
  {
   "cell_type": "markdown",
   "metadata": {},
   "source": [
    "### We implement both closed form solution and the gradient descent "
   ]
  },
  {
   "cell_type": "markdown",
   "metadata": {},
   "source": [
    "###### Closed form function "
   ]
  },
  {
   "cell_type": "code",
   "execution_count": 2,
   "metadata": {},
   "outputs": [],
   "source": [
    "def closedForm(X , y):\n",
    "    X_transpose = np.transpose(X)\n",
    "    \n",
    "    # The Moore-Penrose Pseudo Inverse\n",
    "    Y = np.linalg.inv(X_transpose.dot(X))\n",
    "    theta = Y.dot(X_transpose.dot(y))\n",
    "    return theta"
   ]
  },
  {
   "cell_type": "markdown",
   "metadata": {},
   "source": [
    "##### Below is a funciton which calculated the error  between the true y values vs the estimated  y values"
   ]
  },
  {
   "cell_type": "code",
   "execution_count": 3,
   "metadata": {},
   "outputs": [],
   "source": [
    "def Error(yTrue , yEst):\n",
    "    error = 0\n",
    "    \n",
    "    for i in range(len(yTrue)):\n",
    "        error += (yTrue[i] - yEst[i])**2\n",
    "    error *= .5\n",
    "    return error"
   ]
  },
  {
   "cell_type": "markdown",
   "metadata": {},
   "source": [
    "### -> Below we write a function that calculates the values given a dataset of x values and parameters... we going to use these values for computing errors late"
   ]
  },
  {
   "cell_type": "code",
   "execution_count": 4,
   "metadata": {},
   "outputs": [],
   "source": [
    "def results(Paragms, dataSet,noise):\n",
    "    values = np.array([])\n",
    "    \n",
    "    for i in dataSet:\n",
    "        y = Paragms[0] + noise\n",
    "        for j in range(1,len(Paragms)):\n",
    "            y += Paragms[j]*(i**j)\n",
    "        values = np.append(values , [y])\n",
    "    return values"
   ]
  },
  {
   "cell_type": "markdown",
   "metadata": {},
   "source": [
    "###### Below we calculate a design matrix  of a polynomail basis function"
   ]
  },
  {
   "cell_type": "code",
   "execution_count": 5,
   "metadata": {},
   "outputs": [],
   "source": [
    "def designMatrix(polyDegree , x):\n",
    "    \n",
    "    \n",
    "    n = len(x)\n",
    "    t = np.ones(n)\n",
    "    X = np.array([t])\n",
    "    X = np.append(X,[x], axis = 0)    \n",
    "    \n",
    "    for i in range(2 , polyDegree+1):\n",
    "        temp = np.array([x[0]**i])\n",
    "        \n",
    "        for j in range (1 ,n):\n",
    "            temp = np.append(temp , x[j]**i)\n",
    "            \n",
    "        X = np.append(X,[temp], axis = 0)    \n",
    "            \n",
    "    X = np.transpose(X)\n",
    "    return X\n",
    "\n",
    "#x = [0,1,2,3,4,5]\n",
    "#y = [1.1, -.7, -2.6, -3.7, -2.9, 1]\n",
    "#plt.scatter(x,y)\n",
    "#print(designMatrix(2,x)[2])\n"
   ]
  },
  {
   "cell_type": "markdown",
   "metadata": {},
   "source": [
    "###### Below we generate 150 data points (x values), the 3 random true parameters and the y values corresponding to the x values "
   ]
  },
  {
   "cell_type": "code",
   "execution_count": 6,
   "metadata": {},
   "outputs": [
    {
     "data": {
      "text/plain": [
       "<matplotlib.collections.PathCollection at 0x7f05accfae10>"
      ]
     },
     "execution_count": 6,
     "metadata": {},
     "output_type": "execute_result"
    },
    {
     "data": {
      "image/png": "[encoded data removed]",
      "text/plain": [
       "<Figure size 432x288 with 1 Axes>"
      ]
     },
     "metadata": {
      "needs_background": "light"
     },
     "output_type": "display_data"
    }
   ],
   "source": [
    "data_x = np.random.normal(0,10,150)\n",
    "θ_ = np.random.rand(3)\n",
    "\n",
    "noise = np.random.normal(0,10,1)[0]\n",
    "data_y = results(θ_,data_x,noise)\n",
    "\n",
    "    \n",
    "plt.scatter(data_x , data_y)\n"
   ]
  },
  {
   "cell_type": "markdown",
   "metadata": {},
   "source": [
    "#### Below we split the data we have into training , testing and validation sets"
   ]
  },
  {
   "cell_type": "code",
   "execution_count": 7,
   "metadata": {},
   "outputs": [],
   "source": [
    "trainA = 100\n",
    "testA = 30 + trainA\n",
    "validA = 20 \n",
    "\n",
    "x_train , x_test , x_validation = data_x[:trainA] , data_x[trainA:testA] , data_x[testA:]\n",
    "y_train , y_test , y_validation = data_y[:trainA] , data_y[trainA:testA] , data_y[testA:]\n",
    "\n",
    "#plt.scatter(x_train , y_train)\n",
    "#plt.scatter(x_test , y_test)\n",
    "#plt.scatter(x_validation , y_validation)"
   ]
  },
  {
   "cell_type": "markdown",
   "metadata": {},
   "source": [
    "### 4 b. \n",
    "###### We begin by obtaining our theta i estimates using the closed form slolution\n",
    "    we first obtain the design matrix of the 2nd degree polynomial\n",
    "    We then calculate the Errors"
   ]
  },
  {
   "cell_type": "code",
   "execution_count": 8,
   "metadata": {},
   "outputs": [
    {
     "name": "stdout",
     "output_type": "stream",
     "text": [
      "True Parameters:  [0.35109033 0.52649859 0.92537453]\n",
      "Estimated Parameters:  [9.01013517 0.52649859 0.92537453]\n",
      "Trainin Error:  1.1629450573640574e-24\n",
      "Validation Error:  2.367797561457076e-25\n"
     ]
    }
   ],
   "source": [
    "DesignMatrix = designMatrix(2, x_train)\n",
    "θ_est = closedForm(DesignMatrix , y_train)\n",
    "\n",
    "yEst = results(θ_est,x_train,0)                         # Estimated values for our new parameters\n",
    "yEstValidation = results(θ_est , x_validation , 0)      # Estimatated validation data used to calcute validation error\n",
    "trainError = Error(y_train,yEst)                        # Training error\n",
    "validationError = Error(yEstValidation , y_validation)  # Validation Error\n",
    "print(\"True Parameters: \",θ_)\n",
    "print(\"Estimated Parameters: \",θ_est)\n",
    "print(\"Trainin Error: \",trainError)\n",
    "print(\"Validation Error: \",validationError)"
   ]
  },
  {
   "cell_type": "markdown",
   "metadata": {},
   "source": [
    "#### 4 b. \n",
    "    ** These are very close. theta i where i is greater than one have the exact parameter and the difference is only in theta0 and the difference between the 2 is only the random noise we computed\n",
    "    ** The errors values are very small which is what we expect"
   ]
  },
  {
   "cell_type": "markdown",
   "metadata": {},
   "source": [
    "###### Below we plot the true y values as scatter plot and the estimates with the line plot"
   ]
  },
  {
   "cell_type": "code",
   "execution_count": 9,
   "metadata": {},
   "outputs": [
    {
     "data": {
      "text/plain": [
       "[<matplotlib.lines.Line2D at 0x7f059fcc69d0>]"
      ]
     },
     "execution_count": 9,
     "metadata": {},
     "output_type": "execute_result"
    },
    {
     "data": {
      "image/png": "[encoded data removed]",
      "text/plain": [
       "<Figure size 432x288 with 1 Axes>"
      ]
     },
     "metadata": {
      "needs_background": "light"
     },
     "output_type": "display_data"
    }
   ],
   "source": [
    "plt.scatter(x_train , y_train)\n",
    "plt.plot(np.sort(x_train),results(θ_est,np.sort(x_train),0),color=\"red\")"
   ]
  },
  {
   "cell_type": "markdown",
   "metadata": {},
   "source": [
    "### FROM HERE WE NEED TO IMPLEMENT THE GRADIENT DESCENT\n",
    "     * And we plot what our results "
   ]
  },
  {
   "cell_type": "code",
   "execution_count": 10,
   "metadata": {},
   "outputs": [
    {
     "data": {
      "text/plain": [
       "array([1.00000188, 0.9999549 , 0.9992717 ])"
      ]
     },
     "execution_count": 10,
     "metadata": {},
     "output_type": "execute_result"
    },
    {
     "data": {
      "image/png": "[encoded data removed]",
      "text/plain": [
       "<Figure size 432x288 with 1 Axes>"
      ]
     },
     "metadata": {
      "needs_background": "light"
     },
     "output_type": "display_data"
    }
   ],
   "source": [
    "def f(x , θ):\n",
    "    return np.dot(x,θ)\n",
    "\n",
    "def gradientDescent(polyDegree , trainSetX , trainSetY):\n",
    "    n = polyDegree         # Here I just set n = polyDegree so that I can work faster and not having to type everything\n",
    "    θ = np.ones(n+1)       # we start with our theta values being ones\n",
    "    θ_old = np.zeros(n+1)\n",
    "    c = 0\n",
    "    α = 1.12e-8\n",
    "    \n",
    "    \n",
    "    #α = 1.1e-5            # define our learning rate\n",
    "    X = designMatrix(n , trainSetX) \n",
    "    \n",
    "    while np.sqrt(np.sum(np.power(θ - θ_old, 2))) > 0.01:\n",
    "        θ_old = θ\n",
    "        for i in range(len(X)):\n",
    "            θ = θ - α*(f(X[i],θ) - trainSetY[i])*X[i]\n",
    "        c += 1\n",
    "    plt.plot(np.sort(x_train),results(θ,np.sort(x_train),0),color=\"red\")\n",
    "    plt.scatter(np.sort(x_train),results(θ_,np.sort(x_train),0),color=\"blue\") \n",
    "    return θ\n",
    "    \n",
    "\n",
    "gradientDescent(2,x_train,y_train)\n"
   ]
  },
  {
   "cell_type": "markdown",
   "metadata": {},
   "source": [
    "#### 4c\n",
    "       i. starting with a decision matrix that of the third polynomial degree"
   ]
  },
  {
   "cell_type": "code",
   "execution_count": 11,
   "metadata": {},
   "outputs": [
    {
     "data": {
      "image/png": "[encoded data removed]",
      "text/plain": [
       "<Figure size 432x288 with 1 Axes>"
      ]
     },
     "metadata": {
      "needs_background": "light"
     },
     "output_type": "display_data"
    }
   ],
   "source": [
    "#we pass the training data\n",
    "\n",
    "Matrix3 = designMatrix(3 , x_train)\n",
    "θ3 = gradientDescent(3,x_train,y_train) # 3 for order 3"
   ]
  },
  {
   "cell_type": "code",
   "execution_count": 12,
   "metadata": {},
   "outputs": [],
   "source": [
    "def gDWithReg(polyDegree , trainSetX , trainSetY):\n",
    "    n = polyDegree         # Here I just set n = polyDegree so that I can work faster and not having to type everything\n",
    "    θ = np.ones(n+1)       # we start with our theta values being ones\n",
    "    θ_old = np.zeros(n+1)\n",
    "    lamda = 1.2e-5\n",
    "    α = 1.2e-8\n",
    "    \n",
    "    \n",
    "    #α = 1.1e-5            # define our learning rate\n",
    "    X = designMatrix(n , trainSetX) \n",
    "    \n",
    "    while np.sqrt(np.sum(np.power(θ - θ_old, 2))) > 0.01:\n",
    "        θ_old = θ\n",
    "        for i in range(len(X)):\n",
    "            if i is not 0:\n",
    "                θ = θ - α*(f(X[i],θ) - trainSetY[i])*X[i] +lamda*f(θ,θ)\n",
    "            else:\n",
    "                θ = θ - α*(f(X[i],θ) - trainSetY[i])*X[i] # to avoid regularizing 0\n",
    "            \n",
    "\n",
    "    plt.plot(np.sort(x_train),results(θ,np.sort(x_train),0),color=\"red\")\n",
    "    plt.scatter(np.sort(x_train),results(θ_,np.sort(x_train),0),color=\"blue\") \n",
    "    return θ"
   ]
  },
  {
   "cell_type": "code",
   "execution_count": 13,
   "metadata": {},
   "outputs": [
    {
     "data": {
      "image/png": "[encoded data removed]",
      "text/plain": [
       "<Figure size 432x288 with 1 Axes>"
      ]
     },
     "metadata": {
      "needs_background": "light"
     },
     "output_type": "display_data"
    }
   ],
   "source": [
    "θ_R = gDWithReg(3,x_train,y_train) # R for regularisation"
   ]
  },
  {
   "cell_type": "code",
   "execution_count": null,
   "metadata": {},
   "outputs": [],
   "source": []
  },
  {
   "cell_type": "markdown",
   "metadata": {},
   "source": [
    "######  C. iv. From the trainings above, We can deduce that the closed form solution gives the best performance then the 2nd order polynomial gradient descent then lastly the third order polynomial with regularization then without regularization. We have also noted the difference in the value alpha. Visually the difference is seen between the different order polynomials and less with regularization. Non of the gradient descent was able to achieve a better Error than the closed form solution"
   ]
  },
  {
   "cell_type": "code",
   "execution_count": null,
   "metadata": {},
   "outputs": [],
   "source": []
  },
  {
   "cell_type": "markdown",
   "metadata": {},
   "source": [
    "###### C. v. The gradient descent with the right features and order 2 polynomial performed better than one with higher order and with regularization. though regularization did improve the error we've found. It is therefore better to use a model with the necessary features than using a model with higher order and with regularization"
   ]
  },
  {
   "cell_type": "code",
   "execution_count": null,
   "metadata": {},
   "outputs": [],
   "source": []
  }
 ],
 "metadata": {
  "kernelspec": {
   "display_name": "Python 3",
   "language": "python",
   "name": "python3"
  },
  "language_info": {
   "codemirror_mode": {
    "name": "ipython",
    "version": 3
   },
   "file_extension": ".py",
   "mimetype": "text/x-python",
   "name": "python",
   "nbconvert_exporter": "python",
   "pygments_lexer": "ipython3",
   "version": "3.7.7"
  }
 },
 "nbformat": 4,
 "nbformat_minor": 4
}
